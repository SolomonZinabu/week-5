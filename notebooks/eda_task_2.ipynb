{
 "cells": [
  {
   "cell_type": "code",
   "execution_count": null,
   "metadata": {},
   "outputs": [],
   "source": [
    "# eda_task_2.ipynb\n",
    "\n",
    "from scripts.labeling import load_data, label_data, save_conll_format\n",
    "\n",
    "# Step 1: Load the cleaned Telegram data\n",
    "file_path = '../data/cleaned_telegram_data_new.csv'  # Ensure the path is correct\n",
    "data = load_data(file_path)\n",
    "\n",
    "# Step 2: Display a few samples\n",
    "print(\"Sample data:\")\n",
    "print(data.head())\n",
    "\n",
    "# Step 3: Perform labeling (you will manually adjust labels after running this)\n",
    "labeled_data = label_data(data)\n",
    "\n",
    "# Step 4: Save the labeled data in CoNLL format\n",
    "conll_output_path = '../output/labeled_telegram_data.conll'\n",
    "save_conll_format(labeled_data, conll_output_path)\n",
    "\n",
    "print(f\"Labeled data saved to {conll_output_path}\")\n",
    "\n"
   ]
  }
 ],
 "metadata": {
  "kernelspec": {
   "display_name": "venv",
   "language": "python",
   "name": "python3"
  },
  "language_info": {
   "codemirror_mode": {
    "name": "ipython",
    "version": 3
   },
   "file_extension": ".py",
   "mimetype": "text/x-python",
   "name": "python",
   "nbconvert_exporter": "python",
   "pygments_lexer": "ipython3",
   "version": "3.12.6"
  }
 },
 "nbformat": 4,
 "nbformat_minor": 2
}
