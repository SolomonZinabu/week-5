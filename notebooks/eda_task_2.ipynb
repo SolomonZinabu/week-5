{
 "cells": [
  {
   "cell_type": "code",
   "execution_count": null,
   "metadata": {},
   "outputs": [
    {
     "name": "stdout",
     "output_type": "stream",
     "text": [
      "Sample data:\n",
      "         Channel Title    Channel Username    ID  \\\n",
      "0  Sheger online-store  @Shageronlinestore  5377   \n",
      "1  Sheger online-store  @Shageronlinestore  5373   \n",
      "2  Sheger online-store  @Shageronlinestore  5372   \n",
      "3  Sheger online-store  @Shageronlinestore  5366   \n",
      "4  Sheger online-store  @Shageronlinestore  5365   \n",
      "\n",
      "                                             Message  \\\n",
      "0  💥 Smart Mini Massager Patch \\n        💯High Qu...   \n",
      "1  💥 Smart Mini Massager Patch \\n        💯High Qu...   \n",
      "2  💥ለመላዉ የክርስትና እምንነት ተከታይ ደንበኞቻችን በሙሉ እንኳን ለብርሃነ...   \n",
      "3  💥SOKANY 3 in1 Blender /Grinder\\n\\nየጁስ የቡና የቅመም...   \n",
      "4  #አልቆል_ለተባላችሁ_በድጋሚ_አስገብተናል \\n📣 IMPULSE SEALER\\n...   \n",
      "\n",
      "                        Date                          Media Path  \\\n",
      "0  2024-09-28 07:32:14+00:00                                 NaN   \n",
      "1  2024-09-28 07:23:17+00:00  photos\\@Shageronlinestore_5373.jpg   \n",
      "2  2024-09-27 07:12:34+00:00  photos\\@Shageronlinestore_5372.jpg   \n",
      "3  2024-09-26 09:20:40+00:00  photos\\@Shageronlinestore_5366.jpg   \n",
      "4  2024-09-25 16:09:48+00:00  photos\\@Shageronlinestore_5365.jpg   \n",
      "\n",
      "                                     cleaned_message  \n",
      "0  Smart Mini Massager Patch High Quality አንገት፣ጀር...  \n",
      "1  Smart Mini Massager Patch High Quality አንገት፣ጀር...  \n",
      "2  ለመላዉ የክርስትና እምንነት ተከታይ ደንበኞቻችን በሙሉ እንኳን ለብርሃነ ...  \n",
      "3  SOKANY 3 in 1 Blender Grinder የጁስ የቡና የቅመም መፍጫ...  \n",
      "4  አልቆል ለተባላችሁ በድጋሚ አስገብተናል IMPULSE SEALER የላስቲክ ...  \n",
      "Labeled data saved to ../output/labeled_telegram_data.conll\n"
     ]
    }
   ],
   "source": [
    "# eda_task_2.ipynb\n",
    "\n",
    "from scripts.labeling import load_data, label_data, save_conll_format\n",
    "\n",
    "# Step 1: Load the cleaned Telegram data\n",
    "file_path = '../data/cleaned_telegram_data_new.csv'  \n",
    "data = load_data(file_path)\n",
    "\n",
    "# Step 2: Display a few samples\n",
    "print(\"Sample data:\")\n",
    "print(data.head())\n",
    "\n",
    "# Step 3: Perform labeling \n",
    "labeled_data = label_data(data)\n",
    "\n",
    "# Step 4: Save the labeled data in CoNLL format\n",
    "conll_output_path = '../output/labeled_telegram_data.conll'\n",
    "save_conll_format(labeled_data, conll_output_path)\n",
    "\n",
    "print(f\"Labeled data saved to {conll_output_path}\")\n"
   ]
  }
 ],
 "metadata": {
  "kernelspec": {
   "display_name": "venv",
   "language": "python",
   "name": "python3"
  },
  "language_info": {
   "codemirror_mode": {
    "name": "ipython",
    "version": 3
   },
   "file_extension": ".py",
   "mimetype": "text/x-python",
   "name": "python",
   "nbconvert_exporter": "python",
   "pygments_lexer": "ipython3",
   "version": "3.12.6"
  }
 },
 "nbformat": 4,
 "nbformat_minor": 2
}
