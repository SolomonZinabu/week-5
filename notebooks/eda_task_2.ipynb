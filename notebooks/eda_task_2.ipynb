{
 "cells": [
  {
   "cell_type": "code",
   "execution_count": 1,
   "metadata": {},
   "outputs": [
    {
     "name": "stdout",
     "output_type": "stream",
     "text": [
      "Sample data:\n",
      "         Channel Title    Channel Username    ID  \\\n",
      "0  Sheger online-store  @Shageronlinestore  5377   \n",
      "1  Sheger online-store  @Shageronlinestore  5376   \n",
      "2  Sheger online-store  @Shageronlinestore  5375   \n",
      "3  Sheger online-store  @Shageronlinestore  5374   \n",
      "4  Sheger online-store  @Shageronlinestore  5373   \n",
      "\n",
      "                                             Message  \\\n",
      "0  💥 Smart Mini Massager Patch \\n        💯High Qu...   \n",
      "1                                                NaN   \n",
      "2                                                NaN   \n",
      "3                                                NaN   \n",
      "4  💥 Smart Mini Massager Patch \\n        💯High Qu...   \n",
      "\n",
      "                        Date                          Media Path  \\\n",
      "0  2024-09-28 07:32:14+00:00                                 NaN   \n",
      "1  2024-09-28 07:23:18+00:00  photos\\@Shageronlinestore_5376.jpg   \n",
      "2  2024-09-28 07:23:18+00:00  photos\\@Shageronlinestore_5375.jpg   \n",
      "3  2024-09-28 07:23:18+00:00  photos\\@Shageronlinestore_5374.jpg   \n",
      "4  2024-09-28 07:23:17+00:00  photos\\@Shageronlinestore_5373.jpg   \n",
      "\n",
      "                                     cleaned_message  \n",
      "0  [' ', 'Smart', 'Mini', 'Massager', 'Patch', 'H...  \n",
      "1                                                NaN  \n",
      "2                                                NaN  \n",
      "3                                                NaN  \n",
      "4  [' ', 'Smart', 'Mini', 'Massager', 'Patch', 'H...  \n",
      "Labeled data saved to ../output/labeled_telegram_data.conll\n"
     ]
    }
   ],
   "source": [
    "# eda_task_2.ipynb\n",
    "\n",
    "from scripts.labeling import load_data, label_data, save_conll_format\n",
    "\n",
    "# Step 1: Load the cleaned Telegram data\n",
    "file_path = '../data/cleaned_telegram_data_new.csv'  # Ensure the path is correct\n",
    "data = load_data(file_path)\n",
    "\n",
    "# Step 2: Display a few samples\n",
    "print(\"Sample data:\")\n",
    "print(data.head())\n",
    "\n",
    "# Step 3: Perform labeling (you will manually adjust labels after running this)\n",
    "labeled_data = label_data(data)\n",
    "\n",
    "# Step 4: Save the labeled data in CoNLL format\n",
    "conll_output_path = '../output/labeled_telegram_data.conll'\n",
    "save_conll_format(labeled_data, conll_output_path)\n",
    "\n",
    "print(f\"Labeled data saved to {conll_output_path}\")\n",
    "\n"
   ]
  }
 ],
 "metadata": {
  "kernelspec": {
   "display_name": "venv",
   "language": "python",
   "name": "python3"
  },
  "language_info": {
   "codemirror_mode": {
    "name": "ipython",
    "version": 3
   },
   "file_extension": ".py",
   "mimetype": "text/x-python",
   "name": "python",
   "nbconvert_exporter": "python",
   "pygments_lexer": "ipython3",
   "version": "3.12.6"
  }
 },
 "nbformat": 4,
 "nbformat_minor": 2
}
