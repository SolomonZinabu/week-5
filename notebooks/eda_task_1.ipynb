{
 "cells": [
  {
   "cell_type": "code",
   "execution_count": 1,
   "metadata": {},
   "outputs": [
    {
     "data": {
      "text/html": [
       "<div>\n",
       "<style scoped>\n",
       "    .dataframe tbody tr th:only-of-type {\n",
       "        vertical-align: middle;\n",
       "    }\n",
       "\n",
       "    .dataframe tbody tr th {\n",
       "        vertical-align: top;\n",
       "    }\n",
       "\n",
       "    .dataframe thead th {\n",
       "        text-align: right;\n",
       "    }\n",
       "</style>\n",
       "<table border=\"1\" class=\"dataframe\">\n",
       "  <thead>\n",
       "    <tr style=\"text-align: right;\">\n",
       "      <th></th>\n",
       "      <th>Channel Title</th>\n",
       "      <th>Channel Username</th>\n",
       "      <th>ID</th>\n",
       "      <th>Message</th>\n",
       "      <th>Date</th>\n",
       "      <th>Media Path</th>\n",
       "      <th>cleaned_message</th>\n",
       "    </tr>\n",
       "  </thead>\n",
       "  <tbody>\n",
       "    <tr>\n",
       "      <th>0</th>\n",
       "      <td>Sheger online-store</td>\n",
       "      <td>@Shageronlinestore</td>\n",
       "      <td>5377</td>\n",
       "      <td>💥 Smart Mini Massager Patch \\n        💯High Qu...</td>\n",
       "      <td>2024-09-28 07:32:14+00:00</td>\n",
       "      <td>NaN</td>\n",
       "      <td>[' ', 'Smart', 'Mini', 'Massager', 'Patch', 'H...</td>\n",
       "    </tr>\n",
       "    <tr>\n",
       "      <th>1</th>\n",
       "      <td>Sheger online-store</td>\n",
       "      <td>@Shageronlinestore</td>\n",
       "      <td>5376</td>\n",
       "      <td>NaN</td>\n",
       "      <td>2024-09-28 07:23:18+00:00</td>\n",
       "      <td>photos\\@Shageronlinestore_5376.jpg</td>\n",
       "      <td>NaN</td>\n",
       "    </tr>\n",
       "    <tr>\n",
       "      <th>2</th>\n",
       "      <td>Sheger online-store</td>\n",
       "      <td>@Shageronlinestore</td>\n",
       "      <td>5375</td>\n",
       "      <td>NaN</td>\n",
       "      <td>2024-09-28 07:23:18+00:00</td>\n",
       "      <td>photos\\@Shageronlinestore_5375.jpg</td>\n",
       "      <td>NaN</td>\n",
       "    </tr>\n",
       "    <tr>\n",
       "      <th>3</th>\n",
       "      <td>Sheger online-store</td>\n",
       "      <td>@Shageronlinestore</td>\n",
       "      <td>5374</td>\n",
       "      <td>NaN</td>\n",
       "      <td>2024-09-28 07:23:18+00:00</td>\n",
       "      <td>photos\\@Shageronlinestore_5374.jpg</td>\n",
       "      <td>NaN</td>\n",
       "    </tr>\n",
       "    <tr>\n",
       "      <th>4</th>\n",
       "      <td>Sheger online-store</td>\n",
       "      <td>@Shageronlinestore</td>\n",
       "      <td>5373</td>\n",
       "      <td>💥 Smart Mini Massager Patch \\n        💯High Qu...</td>\n",
       "      <td>2024-09-28 07:23:17+00:00</td>\n",
       "      <td>photos\\@Shageronlinestore_5373.jpg</td>\n",
       "      <td>[' ', 'Smart', 'Mini', 'Massager', 'Patch', 'H...</td>\n",
       "    </tr>\n",
       "  </tbody>\n",
       "</table>\n",
       "</div>"
      ],
      "text/plain": [
       "         Channel Title    Channel Username    ID  \\\n",
       "0  Sheger online-store  @Shageronlinestore  5377   \n",
       "1  Sheger online-store  @Shageronlinestore  5376   \n",
       "2  Sheger online-store  @Shageronlinestore  5375   \n",
       "3  Sheger online-store  @Shageronlinestore  5374   \n",
       "4  Sheger online-store  @Shageronlinestore  5373   \n",
       "\n",
       "                                             Message  \\\n",
       "0  💥 Smart Mini Massager Patch \\n        💯High Qu...   \n",
       "1                                                NaN   \n",
       "2                                                NaN   \n",
       "3                                                NaN   \n",
       "4  💥 Smart Mini Massager Patch \\n        💯High Qu...   \n",
       "\n",
       "                        Date                          Media Path  \\\n",
       "0  2024-09-28 07:32:14+00:00                                 NaN   \n",
       "1  2024-09-28 07:23:18+00:00  photos\\@Shageronlinestore_5376.jpg   \n",
       "2  2024-09-28 07:23:18+00:00  photos\\@Shageronlinestore_5375.jpg   \n",
       "3  2024-09-28 07:23:18+00:00  photos\\@Shageronlinestore_5374.jpg   \n",
       "4  2024-09-28 07:23:17+00:00  photos\\@Shageronlinestore_5373.jpg   \n",
       "\n",
       "                                     cleaned_message  \n",
       "0  [' ', 'Smart', 'Mini', 'Massager', 'Patch', 'H...  \n",
       "1                                                NaN  \n",
       "2                                                NaN  \n",
       "3                                                NaN  \n",
       "4  [' ', 'Smart', 'Mini', 'Massager', 'Patch', 'H...  "
      ]
     },
     "execution_count": 1,
     "metadata": {},
     "output_type": "execute_result"
    }
   ],
   "source": [
    "# Import necessary modules\n",
    "import pandas as pd\n",
    "from scripts.preprocess_data import process_telegram_data\n",
    "\n",
    "# Define file paths\n",
    "input_file = '../data/telegram_data.csv'\n",
    "output_file = '../data/cleaned_telegram_data_new.csv'\n",
    "\n",
    "# Process the data\n",
    "process_telegram_data(input_file, output_file)\n",
    "\n",
    "# Load the cleaned data for inspection\n",
    "cleaned_data = pd.read_csv(output_file)\n",
    "cleaned_data.head()\n"
   ]
  },
  {
   "cell_type": "code",
   "execution_count": 1,
   "metadata": {},
   "outputs": [],
   "source": [
    "# Import necessary libraries\n",
    "import pandas as pd\n",
    "from scripts.data_preprocessing import preprocess_data\n",
    "from scripts.data_visualization import generate_basic_stats, plot_message_length_distribution, plot_message_over_time, generate_word_cloud\n",
    "\n",
    "\n"
   ]
  },
  {
   "cell_type": "code",
   "execution_count": 2,
   "metadata": {},
   "outputs": [],
   "source": [
    "# Step 1: Load the raw data from the correct path\n",
    "data_file = '../data/telegram_data.csv'\n",
    "df = pd.read_csv(data_file)\n",
    "\n"
   ]
  },
  {
   "cell_type": "code",
   "execution_count": 3,
   "metadata": {},
   "outputs": [],
   "source": [
    "# Step 2: Preprocess the data (including cleaning the text)\n",
    "df_cleaned = preprocess_data(df)\n",
    "\n"
   ]
  },
  {
   "cell_type": "code",
   "execution_count": null,
   "metadata": {},
   "outputs": [],
   "source": [
    "# Step 3: Save the cleaned data for later use\n",
    "df_cleaned.to_csv('../data/telegram_data_cleaned.csv', index=False)\n",
    "print(\"Cleaned data saved to '../data/telegram_data_cleaned.csv'\")\n",
    "\n"
   ]
  },
  {
   "cell_type": "code",
   "execution_count": null,
   "metadata": {},
   "outputs": [],
   "source": [
    "# Step 4: Generate and display basic statistics\n",
    "basic_stats = generate_basic_stats(df_cleaned)\n",
    "print(\"Basic statistics:\\n\", basic_stats)\n",
    "\n"
   ]
  },
  {
   "cell_type": "code",
   "execution_count": null,
   "metadata": {},
   "outputs": [],
   "source": [
    "# Step 5: Visualize message length distribution\n",
    "plot_message_length_distribution(df_cleaned)\n"
   ]
  },
  {
   "cell_type": "code",
   "execution_count": null,
   "metadata": {},
   "outputs": [],
   "source": [
    "\n",
    "# Step 6: Visualize message counts over time\n",
    "df_cleaned['Date'] = pd.to_datetime(df_cleaned['Date'])\n",
    "df_cleaned.set_index('Date', inplace=True)\n",
    "plot_message_over_time(df_cleaned)\n",
    "\n"
   ]
  },
  {
   "cell_type": "code",
   "execution_count": null,
   "metadata": {},
   "outputs": [],
   "source": [
    "# Step 7: Generate a word cloud from the cleaned messages\n",
    "generate_word_cloud(df_cleaned, 'Cleaned_Message')"
   ]
  }
 ],
 "metadata": {
  "kernelspec": {
   "display_name": "venv",
   "language": "python",
   "name": "python3"
  },
  "language_info": {
   "codemirror_mode": {
    "name": "ipython",
    "version": 3
   },
   "file_extension": ".py",
   "mimetype": "text/x-python",
   "name": "python",
   "nbconvert_exporter": "python",
   "pygments_lexer": "ipython3",
   "version": "3.12.6"
  }
 },
 "nbformat": 4,
 "nbformat_minor": 2
}
