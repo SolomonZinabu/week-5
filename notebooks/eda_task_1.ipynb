{
 "cells": [
  {
   "cell_type": "code",
   "execution_count": null,
   "metadata": {},
   "outputs": [],
   "source": [
    "# eda_task_1.ipynb\n",
    "\n",
    "# Import necessary modules\n",
    "import pandas as pd\n",
    "from scripts.preprocess_data import process_telegram_data\n",
    "\n",
    "# Define file paths\n",
    "input_file = '../data/telegram_data.csv'\n",
    "output_file = '../data/cleaned_telegram_data_new.csv'\n",
    "\n",
    "# Process the data\n",
    "process_telegram_data(input_file, output_file)\n",
    "\n",
    "# Load the cleaned data for inspection\n",
    "cleaned_data = pd.read_csv(output_file)\n",
    "cleaned_data.head()\n"
   ]
  },
  {
   "cell_type": "code",
   "execution_count": null,
   "metadata": {},
   "outputs": [],
   "source": []
  },
  {
   "cell_type": "code",
   "execution_count": null,
   "metadata": {},
   "outputs": [],
   "source": []
  },
  {
   "cell_type": "code",
   "execution_count": null,
   "metadata": {},
   "outputs": [],
   "source": []
  }
 ],
 "metadata": {
  "kernelspec": {
   "display_name": "venv",
   "language": "python",
   "name": "python3"
  },
  "language_info": {
   "codemirror_mode": {
    "name": "ipython",
    "version": 3
   },
   "file_extension": ".py",
   "mimetype": "text/x-python",
   "name": "python",
   "nbconvert_exporter": "python",
   "pygments_lexer": "ipython3",
   "version": "3.12.6"
  }
 },
 "nbformat": 4,
 "nbformat_minor": 2
}
