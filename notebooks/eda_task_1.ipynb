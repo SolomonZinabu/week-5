{
 "cells": [
  {
   "cell_type": "code",
   "execution_count": 1,
   "metadata": {},
   "outputs": [],
   "source": [
    "# Import necessary libraries\n",
    "import pandas as pd\n",
    "from scripts.data_preprocessing import preprocess_data\n",
    "from scripts.data_visualization import generate_basic_stats, plot_message_length_distribution, plot_message_over_time, generate_word_cloud\n",
    "\n",
    "\n"
   ]
  },
  {
   "cell_type": "code",
   "execution_count": 2,
   "metadata": {},
   "outputs": [],
   "source": [
    "# Step 1: Load the raw data from the correct path\n",
    "data_file = '../data/telegram_data.csv'\n",
    "df = pd.read_csv(data_file)\n",
    "\n"
   ]
  },
  {
   "cell_type": "code",
   "execution_count": 3,
   "metadata": {},
   "outputs": [],
   "source": [
    "# Step 2: Preprocess the data (including cleaning the text)\n",
    "df_cleaned = preprocess_data(df)\n",
    "\n"
   ]
  },
  {
   "cell_type": "code",
   "execution_count": null,
   "metadata": {},
   "outputs": [],
   "source": [
    "# Step 3: Save the cleaned data for later use\n",
    "df_cleaned.to_csv('../data/telegram_data_cleaned.csv', index=False)\n",
    "print(\"Cleaned data saved to '../data/telegram_data_cleaned.csv'\")\n",
    "\n"
   ]
  },
  {
   "cell_type": "code",
   "execution_count": null,
   "metadata": {},
   "outputs": [],
   "source": [
    "# Step 4: Generate and display basic statistics\n",
    "basic_stats = generate_basic_stats(df_cleaned)\n",
    "print(\"Basic statistics:\\n\", basic_stats)\n",
    "\n"
   ]
  },
  {
   "cell_type": "code",
   "execution_count": null,
   "metadata": {},
   "outputs": [],
   "source": [
    "# Step 5: Visualize message length distribution\n",
    "plot_message_length_distribution(df_cleaned)\n"
   ]
  },
  {
   "cell_type": "code",
   "execution_count": null,
   "metadata": {},
   "outputs": [],
   "source": [
    "\n",
    "# Step 6: Visualize message counts over time\n",
    "df_cleaned['Date'] = pd.to_datetime(df_cleaned['Date'])\n",
    "df_cleaned.set_index('Date', inplace=True)\n",
    "plot_message_over_time(df_cleaned)\n",
    "\n"
   ]
  },
  {
   "cell_type": "code",
   "execution_count": null,
   "metadata": {},
   "outputs": [],
   "source": [
    "# Step 7: Generate a word cloud from the cleaned messages\n",
    "generate_word_cloud(df_cleaned, 'Cleaned_Message')"
   ]
  }
 ],
 "metadata": {
  "kernelspec": {
   "display_name": "venv",
   "language": "python",
   "name": "python3"
  },
  "language_info": {
   "codemirror_mode": {
    "name": "ipython",
    "version": 3
   },
   "file_extension": ".py",
   "mimetype": "text/x-python",
   "name": "python",
   "nbconvert_exporter": "python",
   "pygments_lexer": "ipython3",
   "version": "3.12.6"
  }
 },
 "nbformat": 4,
 "nbformat_minor": 2
}
